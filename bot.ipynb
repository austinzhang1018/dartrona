{
 "cells": [
  {
   "cell_type": "code",
   "execution_count": 1,
   "metadata": {},
   "outputs": [
    {
     "name": "stdout",
     "output_type": "stream",
     "text": [
      "/bin/bash: pip: command not found\r\n"
     ]
    }
   ],
   "source": [
    "# ! pip install git+https://github.com/deepset-ai/haystack.git\n",
    "#! pip install farm-haystack"
   ]
  },
  {
   "cell_type": "code",
   "execution_count": 2,
   "metadata": {},
   "outputs": [
    {
     "name": "stderr",
     "output_type": "stream",
     "text": [
      "/home/austin/.local/lib/python3.6/site-packages/tensorflow/python/framework/dtypes.py:516: FutureWarning: Passing (type, 1) or '1type' as a synonym of type is deprecated; in a future version of numpy, it will be understood as (type, (1,)) / '(1,)type'.\n",
      "  _np_qint8 = np.dtype([(\"qint8\", np.int8, 1)])\n",
      "/home/austin/.local/lib/python3.6/site-packages/tensorflow/python/framework/dtypes.py:517: FutureWarning: Passing (type, 1) or '1type' as a synonym of type is deprecated; in a future version of numpy, it will be understood as (type, (1,)) / '(1,)type'.\n",
      "  _np_quint8 = np.dtype([(\"quint8\", np.uint8, 1)])\n",
      "/home/austin/.local/lib/python3.6/site-packages/tensorflow/python/framework/dtypes.py:518: FutureWarning: Passing (type, 1) or '1type' as a synonym of type is deprecated; in a future version of numpy, it will be understood as (type, (1,)) / '(1,)type'.\n",
      "  _np_qint16 = np.dtype([(\"qint16\", np.int16, 1)])\n",
      "/home/austin/.local/lib/python3.6/site-packages/tensorflow/python/framework/dtypes.py:519: FutureWarning: Passing (type, 1) or '1type' as a synonym of type is deprecated; in a future version of numpy, it will be understood as (type, (1,)) / '(1,)type'.\n",
      "  _np_quint16 = np.dtype([(\"quint16\", np.uint16, 1)])\n",
      "/home/austin/.local/lib/python3.6/site-packages/tensorflow/python/framework/dtypes.py:520: FutureWarning: Passing (type, 1) or '1type' as a synonym of type is deprecated; in a future version of numpy, it will be understood as (type, (1,)) / '(1,)type'.\n",
      "  _np_qint32 = np.dtype([(\"qint32\", np.int32, 1)])\n",
      "/home/austin/.local/lib/python3.6/site-packages/tensorflow/python/framework/dtypes.py:525: FutureWarning: Passing (type, 1) or '1type' as a synonym of type is deprecated; in a future version of numpy, it will be understood as (type, (1,)) / '(1,)type'.\n",
      "  np_resource = np.dtype([(\"resource\", np.ubyte, 1)])\n",
      "/home/austin/.local/lib/python3.6/site-packages/tensorboard/compat/tensorflow_stub/dtypes.py:541: FutureWarning: Passing (type, 1) or '1type' as a synonym of type is deprecated; in a future version of numpy, it will be understood as (type, (1,)) / '(1,)type'.\n",
      "  _np_qint8 = np.dtype([(\"qint8\", np.int8, 1)])\n",
      "/home/austin/.local/lib/python3.6/site-packages/tensorboard/compat/tensorflow_stub/dtypes.py:542: FutureWarning: Passing (type, 1) or '1type' as a synonym of type is deprecated; in a future version of numpy, it will be understood as (type, (1,)) / '(1,)type'.\n",
      "  _np_quint8 = np.dtype([(\"quint8\", np.uint8, 1)])\n",
      "/home/austin/.local/lib/python3.6/site-packages/tensorboard/compat/tensorflow_stub/dtypes.py:543: FutureWarning: Passing (type, 1) or '1type' as a synonym of type is deprecated; in a future version of numpy, it will be understood as (type, (1,)) / '(1,)type'.\n",
      "  _np_qint16 = np.dtype([(\"qint16\", np.int16, 1)])\n",
      "/home/austin/.local/lib/python3.6/site-packages/tensorboard/compat/tensorflow_stub/dtypes.py:544: FutureWarning: Passing (type, 1) or '1type' as a synonym of type is deprecated; in a future version of numpy, it will be understood as (type, (1,)) / '(1,)type'.\n",
      "  _np_quint16 = np.dtype([(\"quint16\", np.uint16, 1)])\n",
      "/home/austin/.local/lib/python3.6/site-packages/tensorboard/compat/tensorflow_stub/dtypes.py:545: FutureWarning: Passing (type, 1) or '1type' as a synonym of type is deprecated; in a future version of numpy, it will be understood as (type, (1,)) / '(1,)type'.\n",
      "  _np_qint32 = np.dtype([(\"qint32\", np.int32, 1)])\n",
      "/home/austin/.local/lib/python3.6/site-packages/tensorboard/compat/tensorflow_stub/dtypes.py:550: FutureWarning: Passing (type, 1) or '1type' as a synonym of type is deprecated; in a future version of numpy, it will be understood as (type, (1,)) / '(1,)type'.\n",
      "  np_resource = np.dtype([(\"resource\", np.ubyte, 1)])\n"
     ]
    }
   ],
   "source": [
    "from haystack import Finder\n",
    "from haystack.indexing.cleaning import clean_wiki_text\n",
    "from haystack.indexing.utils import convert_files_to_dicts, fetch_archive_from_http\n",
    "from haystack.reader.farm import FARMReader\n",
    "from haystack.reader.transformers import TransformersReader\n",
    "from haystack.utils import print_answers"
   ]
  },
  {
   "cell_type": "code",
   "execution_count": 40,
   "metadata": {},
   "outputs": [
    {
     "name": "stdout",
     "output_type": "stream",
     "text": [
      "13479296ac0cc1ddca4d3005ac6cb554683a7038e02692e099b4381e2df06651\r\n"
     ]
    }
   ],
   "source": [
    "# Recommended: Start Elasticsearch using Docker\n",
    "# ! docker run -d -p 9200:9200 -e \"discovery.type=single-node\" elasticsearch:7.6.2"
   ]
  },
  {
   "cell_type": "code",
   "execution_count": 41,
   "metadata": {},
   "outputs": [
    {
     "name": "stderr",
     "output_type": "stream",
     "text": [
      "07/23/2020 14:31:43 - INFO - elasticsearch -   PUT http://localhost:9200/document [status:200 request:0.492s]\n"
     ]
    }
   ],
   "source": [
    "# Connect to Elasticsearch\n",
    "\n",
    "from haystack.database.elasticsearch import ElasticsearchDocumentStore\n",
    "document_store = ElasticsearchDocumentStore(host=\"localhost\", username=\"\", password=\"\", index=\"document\")"
   ]
  },
  {
   "cell_type": "code",
   "execution_count": 43,
   "metadata": {},
   "outputs": [],
   "source": [
    "import json\n",
    "with open('data.json') as f:\n",
    "    data = json.load(f)\n",
    "    "
   ]
  },
  {
   "cell_type": "code",
   "execution_count": 44,
   "metadata": {},
   "outputs": [],
   "source": [
    "for article in data:\n",
    "    filename = article['url'].split('/')[-1]\n",
    "    with open('articles/%s.txt' % filename, 'w') as f:\n",
    "        print(article['text'], file=f)"
   ]
  },
  {
   "cell_type": "code",
   "execution_count": 46,
   "metadata": {},
   "outputs": [
    {
     "name": "stderr",
     "output_type": "stream",
     "text": [
      "07/23/2020 14:32:05 - INFO - elasticsearch -   POST http://localhost:9200/_bulk [status:200 request:0.470s]\n"
     ]
    }
   ],
   "source": [
    "# Convert files to dicts\n",
    "# You can optionally supply a cleaning function that is applied to each doc (e.g. to remove footers)\n",
    "# It must take a str as input, and return a str.\n",
    "doc_dir = 'articles'\n",
    "dicts = convert_files_to_dicts(dir_path=doc_dir, split_paragraphs=True)\n",
    "# document_store.write_documents(dicts)"
   ]
  },
  {
   "cell_type": "code",
   "execution_count": 47,
   "metadata": {},
   "outputs": [],
   "source": [
    "from haystack.retriever.sparse import ElasticsearchRetriever\n",
    "retriever = ElasticsearchRetriever(document_store=document_store)"
   ]
  },
  {
   "cell_type": "code",
   "execution_count": 48,
   "metadata": {},
   "outputs": [
    {
     "name": "stderr",
     "output_type": "stream",
     "text": [
      "07/23/2020 14:32:22 - INFO - farm.utils -   device: cpu n_gpu: 0, distributed training: False, automatic mixed precision training: None\n",
      "07/23/2020 14:32:22 - INFO - farm.infer -   Could not find `deepset/roberta-base-squad2` locally. Try to download from model hub ...\n",
      "07/23/2020 14:32:27 - WARNING - farm.modeling.language_model -   Could not automatically detect from language model name what language it is. \n",
      "\t We guess it's an *ENGLISH* model ... \n",
      "\t If not: Init the language model by supplying the 'language' param.\n",
      "07/23/2020 14:32:32 - WARNING - farm.modeling.prediction_head -   Some unused parameters are passed to the QuestionAnsweringHead. Might not be a problem. Params: {\"loss_ignore_index\": -1}\n",
      "07/23/2020 14:32:33 - INFO - farm.utils -   device: cpu n_gpu: 0, distributed training: False, automatic mixed precision training: None\n",
      "07/23/2020 14:32:33 - INFO - farm.infer -   Got ya 3 parallel workers to do inference ...\n",
      "07/23/2020 14:32:33 - INFO - farm.infer -    0    0    0 \n",
      "07/23/2020 14:32:33 - INFO - farm.infer -   /w\\  /w\\  /w\\\n",
      "07/23/2020 14:32:33 - INFO - farm.infer -   /'\\  / \\  /'\\\n",
      "07/23/2020 14:32:33 - INFO - farm.infer -       \n"
     ]
    }
   ],
   "source": [
    "reader = FARMReader(model_name_or_path=\"deepset/roberta-base-squad2\", use_gpu=False)"
   ]
  },
  {
   "cell_type": "code",
   "execution_count": 49,
   "metadata": {},
   "outputs": [],
   "source": [
    "finder = Finder(reader, retriever)"
   ]
  },
  {
   "cell_type": "code",
   "execution_count": 60,
   "metadata": {},
   "outputs": [
    {
     "name": "stderr",
     "output_type": "stream",
     "text": [
      "07/23/2020 14:49:33 - INFO - elasticsearch -   POST http://localhost:9200/document/_search [status:200 request:0.056s]\n",
      "07/23/2020 14:49:33 - INFO - haystack.retriever.sparse -   Got 10 candidates from retriever\n",
      "07/23/2020 14:49:33 - INFO - haystack.finder -   Reader is looking for detailed answer in 270944 chars ...\n",
      "Inferencing Samples: 100%|██████████| 2/2 [00:35<00:00, 17.57s/ Batches]\n",
      "Inferencing Samples: 100%|██████████| 2/2 [00:36<00:00, 18.10s/ Batches]\n",
      "Inferencing Samples: 100%|██████████| 2/2 [00:34<00:00, 17.18s/ Batches]\n",
      "Inferencing Samples: 100%|██████████| 1/1 [00:03<00:00,  3.70s/ Batches]\n",
      "Inferencing Samples: 100%|██████████| 2/2 [00:32<00:00, 16.50s/ Batches]\n",
      "Inferencing Samples: 100%|██████████| 1/1 [00:09<00:00,  9.50s/ Batches]\n",
      "Inferencing Samples: 100%|██████████| 1/1 [00:04<00:00,  4.41s/ Batches]\n",
      "Inferencing Samples: 100%|██████████| 1/1 [00:04<00:00,  4.40s/ Batches]\n",
      "Inferencing Samples: 100%|██████████| 1/1 [00:04<00:00,  4.05s/ Batches]\n",
      "Inferencing Samples: 100%|██████████| 1/1 [00:04<00:00,  4.01s/ Batches]\n"
     ]
    }
   ],
   "source": [
    "prediction = finder.get_answers(question=\"Do I have to be on campus in fall?\", top_k_retriever=10, top_k_reader=5)"
   ]
  },
  {
   "cell_type": "code",
   "execution_count": 61,
   "metadata": {},
   "outputs": [
    {
     "name": "stdout",
     "output_type": "stream",
     "text": [
      "Question: Do I have to be on campus in fall?\n",
      "Answer: Spring off-terms are an option\n",
      "Source: students-frequently-asked-questions\n",
      "Context:ummer term be available to all students who wish to attend?\n",
      "Spring off-terms are an option, however there are considerations that need to be taken int\n",
      "Score: 0.74\n",
      "------------------------------------------\n",
      "Answer: Dartmouth will be open this fall\n",
      "Source: community-conversations-april-29-2020-transcript\n",
      "Context:ain what I said partway through my remarks this afternoon, Dartmouth will be open this fall. We are not contemplating cancellation of fall term. Fall \n",
      "Score: 0.68\n",
      "------------------------------------------\n",
      "Answer: fall term is a full residential term with everyone back on campus life as usual, business as usual\n",
      "Source: community-conversations-april-29-2020-transcript\n",
      "Context: term and summer term, or fall term is a full residential term with everyone back on campus life as usual, business as usual.\n",
      "As I sit here over these\n",
      "Score: 0.66\n",
      "------------------------------------------\n",
      "Answer: fall will be different from a typical term\n",
      "Source: community-conversations-preparing-academic-year\n",
      "Context:y,\" Helble said.\n",
      "That said, Helble acknowledged that \"fall will be different from a typical term for residential students here and elsewhere.\" Among t\n",
      "Score: 0.63\n",
      "------------------------------------------\n",
      "Answer: fall operations are highly, highly unlikely\n",
      "Source: community-conversations-june-24-2020-transcript\n",
      "Context:n the past, and I will say again this afternoon, that fall operations are highly, highly unlikely to be what we would characterize as business as usua\n",
      "Score: 0.62\n",
      "------------------------------------------\n"
     ]
    }
   ],
   "source": [
    "print('Question: %s' % prediction['question'])\n",
    "for answer in prediction['answers']:\n",
    "    print('Answer: %s' % answer['answer'])\n",
    "    print('Source: %s' % answer['meta']['name'].split('.txt')[0])\n",
    "    print('Context:' '%s' % answer['context'])\n",
    "    print('Score: {:0.2f}'.format(answer['probability']))\n",
    "    print('------------------------------------------')"
   ]
  },
  {
   "cell_type": "code",
   "execution_count": 56,
   "metadata": {},
   "outputs": [
    {
     "name": "stdout",
     "output_type": "stream",
     "text": [
      "[   {   'answer': 'We will not report test scores for the matriculating class '\n",
      "                  'of 2025',\n",
      "        'context': 'it will be better to submit a test score. We will not '\n",
      "                   'report test scores for the matriculating class of 2025.\"\\n'\n",
      "                   'In addition to Mills, Helble was joined'},\n",
      "    {   'answer': 'Undergraduate final exams will proceed this week',\n",
      "        'context': 'ov/coronavirus/2019-ncov/php/risk-assessment.html.\\n'\n",
      "                   'Undergraduate final exams will proceed this week, and we '\n",
      "                   'are working with faculty to provide altern'},\n",
      "    {   'answer': \"We'll be watching all of that closely\",\n",
      "        'context': 'to what we would have called a normal type of operation. '\n",
      "                   \"We'll be watching all of that closely.\\n\"\n",
      "                   'Lisa, maybe you can comment a little bit more on the t'},\n",
      "    {   'answer': 'Tuck will hold exams for core classes online',\n",
      "        'context': 'ting to learn if they should be tested for COVID-19. Tuck '\n",
      "                   'will hold exams for core classes online. They are planning '\n",
      "                   'to hold spring classes as usual.\\n'},\n",
      "    {   'answer': 'All undergraduates on campus will leave as soon as fall '\n",
      "                  'classes are over and take final exams remotely the week '\n",
      "                  'after Thanksgiving',\n",
      "        'context': 'mic year:\\n'\n",
      "                   'All undergraduates on campus will leave as soon as fall '\n",
      "                   'classes are over and take final exams remotely the week '\n",
      "                   'after Thanksgiving.\\n'\n",
      "                   'Major ch'}]\n"
     ]
    },
    {
     "data": {
      "text/plain": [
       "{'question': 'Will fall exams be on campus?',\n",
       " 'no_ans_gap': 3.6854190826416016,\n",
       " 'answers': [{'answer': 'We will not report test scores for the matriculating class of 2025',\n",
       "   'score': 8.061635971069336,\n",
       "   'probability': 0.7325706752596376,\n",
       "   'context': 'it will be better to submit a test score. We will not report test scores for the matriculating class of 2025.\"\\nIn addition to Mills, Helble was joined',\n",
       "   'offset_start': 42,\n",
       "   'offset_end': 108,\n",
       "   'offset_start_in_doc': 2884,\n",
       "   'offset_end_in_doc': 2950,\n",
       "   'document_id': '4ybyfHMB6KEIJEnpXvEC',\n",
       "   'meta': {'name': 'community-conversations-salaries-extended-through-july-31.txt'}},\n",
       "  {'answer': 'Undergraduate final exams will proceed this week',\n",
       "   'score': 5.3352556228637695,\n",
       "   'probability': 0.660810228610557,\n",
       "   'context': 'ov/coronavirus/2019-ncov/php/risk-assessment.html.\\nUndergraduate final exams will proceed this week, and we are working with faculty to provide altern',\n",
       "   'offset_start': 51,\n",
       "   'offset_end': 99,\n",
       "   'offset_start_in_doc': 1896,\n",
       "   'offset_end_in_doc': 1944,\n",
       "   'document_id': '_ibyfHMB6KEIJEnpXvED',\n",
       "   'meta': {'name': 'march-8-2020-update.txt'}},\n",
       "  {'answer': \"We'll be watching all of that closely\",\n",
       "   'score': 4.34819221496582,\n",
       "   'probability': 0.6326318147349488,\n",
       "   'context': \"to what we would have called a normal type of operation. We'll be watching all of that closely.\\nLisa, maybe you can comment a little bit more on the t\",\n",
       "   'offset_start': 57,\n",
       "   'offset_end': 94,\n",
       "   'offset_start_in_doc': 48294,\n",
       "   'offset_end_in_doc': 48331,\n",
       "   'document_id': '0ybyfHMB6KEIJEnpXvEC',\n",
       "   'meta': {'name': 'community-conversations-april-29-2020-transcript.txt'}},\n",
       "  {'answer': 'Tuck will hold exams for core classes online',\n",
       "   'score': 2.7152607440948486,\n",
       "   'probability': 0.5840466130219533,\n",
       "   'context': 'ting to learn if they should be tested for COVID-19. Tuck will hold exams for core classes online. They are planning to hold spring classes as usual.\\n',\n",
       "   'offset_start': 53,\n",
       "   'offset_end': 97,\n",
       "   'offset_start_in_doc': 643,\n",
       "   'offset_end_in_doc': 687,\n",
       "   'document_id': '0CbyfHMB6KEIJEnpXvEC',\n",
       "   'meta': {'name': 'march-5-2020-update.txt'}},\n",
       "  {'answer': 'All undergraduates on campus will leave as soon as fall classes are over and take final exams remotely the week after Thanksgiving',\n",
       "   'score': 2.1375389099121094,\n",
       "   'probability': 0.5664035049455073,\n",
       "   'context': 'mic year:\\nAll undergraduates on campus will leave as soon as fall classes are over and take final exams remotely the week after Thanksgiving.\\nMajor ch',\n",
       "   'offset_start': 10,\n",
       "   'offset_end': 140,\n",
       "   'offset_start_in_doc': 3527,\n",
       "   'offset_end_in_doc': 3657,\n",
       "   'document_id': 'wSbyfHMB6KEIJEnpXvEB',\n",
       "   'meta': {'name': 'dartmouth-announces-plans-coming-academic-year.txt'}}]}"
      ]
     },
     "execution_count": 56,
     "metadata": {},
     "output_type": "execute_result"
    }
   ],
   "source": [
    "print_answers(prediction, details=\"minimal\")\n",
    "prediction"
   ]
  },
  {
   "cell_type": "code",
   "execution_count": null,
   "metadata": {},
   "outputs": [],
   "source": []
  }
 ],
 "metadata": {
  "kernelspec": {
   "display_name": "Python 3",
   "language": "python",
   "name": "python3"
  },
  "language_info": {
   "codemirror_mode": {
    "name": "ipython",
    "version": 3
   },
   "file_extension": ".py",
   "mimetype": "text/x-python",
   "name": "python",
   "nbconvert_exporter": "python",
   "pygments_lexer": "ipython3",
   "version": "3.6.9"
  }
 },
 "nbformat": 4,
 "nbformat_minor": 4
}
